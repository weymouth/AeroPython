{
 "cells": [
  {
   "cell_type": "markdown",
   "metadata": {
    "colab_type": "text",
    "id": "view-in-github"
   },
   "source": [
    "<a href=\"https://colab.research.google.com/github/weymouth/MarineHydro/blob/master/notebooks/panel_method.ipynb\" target=\"_parent\"><img src=\"https://colab.research.google.com/assets/colab-badge.svg\" alt=\"Open In Colab\"/></a>"
   ]
  },
  {
   "cell_type": "markdown",
   "metadata": {
    "id": "ddHAguxmqLgj"
   },
   "source": [
    "# 2D Potential flow panel method 🚢\n",
    "\n",
    "A panel method is a numerical approach to constructing potential flows around engineering shapes such as a wing or ship hull. Panel methods used in industry are typically 3D, but we will use a 2D approach which is sufficient for strip theory calculations.\n",
    "\n",
    "## Potential and velocity of panel source 🚰\n",
    "\n",
    "The 2D vesion of a panel is a line _segment_. In general this segment will run from some point $(x_i,y_i)$ to $(x_{i+1},y_{i+1})$ and will have a potential flow singularity distributed over it. \n",
    "\n",
    "For example, a 2D source potential is proportional to\n",
    "\n",
    "$$ G(x,y,x_s,y_x) = \\log(r_s) = \\frac 12 \\log(r_s^2) $$\n",
    "\n",
    "where $r_s^2 = (x-x_s)^2+(y-y_s)^2$ is the square-distance from the point $(x_s,y_s)$ on the segment to a point $(x,y)$ in space. $G$ is called a [Green's function](https://en.wikipedia.org/wiki/Green%27s_function) and you can think of it as the building block for the panel method. \n",
    "\n",
    "The potential of the panel is the integrated superposition of $G$ along the segment, ie\n",
    "\n",
    "$$ \\phi_i(x,y) = q_i \\int_{s_i}^{s_{i+1}} G(x,y,x_s,y_s) ds = q_i F_i^\\phi(x,y)$$\n",
    "\n",
    "where $q_i$ is the source strength per segment length. We will assume the strength is constant along each panel, allowing us to pull it out of the integral. The function $F_i^\\phi$ is the potential **influence function**, the potential induced by segment $i$ per unit strength.\n",
    "\n",
    "The potential flow velocity is the gradient of this potential (as usual) and since the $q_i$ is a constant, we can pull it outside the derivative\n",
    "\n",
    "$$ \\vec u_i = \\vec\\nabla\\phi_i = q_i\\vec\\nabla F^\\phi_i=q_iF^{\\vec u_i}\\ ,\\quad F^{\\vec u_i} = \\left[\\frac{\\partial F^\\phi_i}{\\partial x},\\frac{\\partial F^\\phi_i}{\\partial y}\\right]$$\n",
    "\n",
    "which defines the influence functions for the velocity $\\vec u$.\n",
    "\n",
    "We will approximate the integral with a [Gaussian-quadrature](https://en.wikipedia.org/wiki/Gaussian_quadrature#/media/File:Comparison_Gaussquad_trapezoidal.svg) and the derivatives with [finite differences](https://en.wikipedia.org/wiki/Finite_difference#/media/File:Finite_difference_method.svg)."
   ]
  },
  {
   "cell_type": "code",
   "execution_count": null,
   "metadata": {
    "colab": {
     "base_uri": "https://localhost:8080/",
     "height": 432
    },
    "id": "X34nL-TknsFE",
    "outputId": "0c79cacc-cdea-4904-b5d3-eb287787bae5"
   },
   "outputs": [],
   "source": [
    "import numpy as np\n",
    "from matplotlib import pyplot as plt\n",
    "\n",
    "def source(x, y, xs, ys): return 0.5 * np.log((x-xs)**2 + (y-ys)**2)\n",
    "\n",
    "GAUSS2 = 0.5 * (1 + np.sqrt(1/3))  # gaussian-quadrature sample point\n",
    "def potential(x, y, x0, y0, x1, y1, G=source, args=()):\n",
    "    \"Gaussian quadrature estimate of the potential influence function\"\n",
    "    def dG(s): return G(x, y, x0*(1-s)+x1*s, y0*(1-s)+y1*s, *args)\n",
    "    h = np.sqrt((x1-x0)**2 + (y1-y0)**2)\n",
    "    return 0.5*h*sum(dG(s) for s in [GAUSS2, 1-GAUSS2])\n",
    "\n",
    "def velocity(x, y, x0, y0, x1, y1, G=source, args=(), eps=1e-6):\n",
    "    \"\"\"Finite difference estimate of the velocity influence function\"\"\"\n",
    "    def phi(x, y): return potential(x, y, x0, y0, x1, y1, G, args)\n",
    "    return np.array(((phi(x+eps, y) - phi(x-eps, y)) / (2*eps),   # dphi/dx\n",
    "                     (phi(x, y+eps) - phi(x, y-eps)) / (2*eps)))  # dphi/dy\n",
    "\n",
    "# Example segment\n",
    "x0, y0 = -0.1, -0.5\n",
    "x1, y1 = 0.4, 0.17\n",
    "\n",
    "# Visualize the flow\n",
    "XY = np.meshgrid(np.linspace(-2, 2, 22), np.linspace(-2, 2, 22))\n",
    "UV = velocity(*XY, x0, y0, x1, y1)\n",
    "Phi = potential(*XY, x0, y0, x1, y1)\n",
    "\n",
    "# Plot it up\n",
    "plt.figure(figsize=(7, 7))\n",
    "plt.quiver(*XY, *UV)\n",
    "plt.contour(*XY, Phi, 20)\n",
    "plt.plot([x0,x1], [y0,y1], c='b')\n",
    "plt.axis('equal');"
   ]
  },
  {
   "cell_type": "markdown",
   "metadata": {
    "id": "ztNvDhcC3jCU"
   },
   "source": [
    "The resulting flow is the same as a source flow when $r \\gg ds$. However, the velocity is finite and smooth near the panel. This \"well behaved\" velocity makes distributed potentials a good choice for numerical methods.\n",
    "\n",
    "> **Note:** Using numerical approximations makes our `potential` and `velocity` functions **re-usable**. We have used a source singularity, but we could use some other Green's function if we want. _Different singularities are good for building different types of flows_. [This interactive webapp](https://weymouth.github.io/fluid-dynamics/vortexpanel/index.html) uses vortex segments to predict the flow and forces over a thin wing, and at the bottom of this notebook we will use a wave singularity for free surface flows.\n",
    "\n",
    "---\n",
    "\n",
    "## Superposition 💧➕💧➕💧= 💦\n",
    "\n",
    "The next step is to link multiple panels together to form a geometry. The total potential and velocity will simply be the superposition (sum) of each \n",
    "of source panels given above\n",
    "\n",
    "$$\\phi=\\sum_i \\phi_i=\\sum_i q_i F_i^\\phi\\ ,\\quad \\vec u = \\sum_i \\vec u_i=\\sum_i q_i F_i^{\\vec u}.$$ \n",
    "\n",
    "Let's define a set of $N$ panels by connecting $N+1$ points $x_0\\ldots x_N$ and $y_0\\ldots y_N$. Then the Python code for the potential or velocity is a simply `sum` over `i in range(N-1)`. \n",
    "\n",
    "Here's a superposition version of the plotting code above, and a test on a few panels."
   ]
  },
  {
   "cell_type": "code",
   "execution_count": null,
   "metadata": {
    "colab": {
     "base_uri": "https://localhost:8080/",
     "height": 428
    },
    "id": "OWtLH060ygkM",
    "outputId": "aa33a600-1c5a-49ad-88e1-ae1fcc2f9d7e"
   },
   "outputs": [],
   "source": [
    "def plot_flow(x, y, q, XY, G=source, args=(), size=(7,7), ymax=None):\n",
    "    # Loop through segments, superimposing the velocity\n",
    "    def uv(i): return q[i]*velocity(*XY, x[i], y[i], x[i+1], y[i+1], G, args)\n",
    "    UV = sum(uv(i) for i in range(len(x)-1))\n",
    "\n",
    "    # Create plot\n",
    "    plt.figure(figsize=size)\n",
    "    ax = plt.axes()\n",
    "    ax.set_aspect('equal', adjustable='box')\n",
    "\n",
    "    # Plot vectors and segments\n",
    "    Q = plt.quiver(*XY, *np.real(UV))\n",
    "    if np.iscomplexobj(UV):\n",
    "        Q._init()\n",
    "        plt.quiver(*XY, *np.imag(UV), scale=Q.scale, color='g')\n",
    "    plt.plot(x, y, c='b')\n",
    "    plt.ylim(None, ymax)\n",
    "\n",
    "plot_flow([-1,1,1,-1], [-1,-1,1,1], [1,-1,1], XY)"
   ]
  },
  {
   "cell_type": "markdown",
   "metadata": {
    "id": "j3dFUDpa9sA-"
   },
   "source": [
    "Excellent! We can now plot the flow induced by a set of panels. Move around the points and change the strength `q` to see how the flow changes.\n",
    "\n",
    "> **Note:** The velocity isn't _that_ smooth since we've only approximated the integral with two samples (you can see where they are). This will be less of a problem when we use smaller panels. Lets define a function to create `N` panels in the shape of an ellipse."
   ]
  },
  {
   "cell_type": "code",
   "execution_count": null,
   "metadata": {
    "colab": {
     "base_uri": "https://localhost:8080/",
     "height": 428
    },
    "id": "shvx5GxUreQD",
    "outputId": "98bcd4c8-41e1-4691-f0da-e2d1f6689987"
   },
   "outputs": [],
   "source": [
    "def ellipse(N, a=1, b=1, theta1=np.pi):\n",
    "    \"x,y arrays around an elliptical arc\"\n",
    "    theta = np.linspace(-np.pi, theta1, N+1)  # N+1 points for N panels\n",
    "    return a*np.cos(theta), b*np.sin(theta)\n",
    "\n",
    "def mask_grid(x, y, mask):\n",
    "    \"delete mesh points where mask is true\"\n",
    "    def delete(a): return np.ma.masked_array(a, mask(x,y)).compressed()\n",
    "    return np.array((delete(x), delete(y)))\n",
    "\n",
    "# geometry\n",
    "N, rx, ry = 32, 1.5, 0.75\n",
    "x, y = ellipse(N, rx, ry)\n",
    "EXY = mask_grid(*XY, mask = lambda x, y: (x/rx)**2 + (y/ry)**2<1)\n",
    "\n",
    "q = np.ones_like(x)  # we don't know q yet!\n",
    "plot_flow(x, y, q, EXY)"
   ]
  },
  {
   "cell_type": "markdown",
   "metadata": {
    "id": "QAJWhCYaZNVJ"
   },
   "source": [
    "\n",
    "\n",
    "## Linear system 🚣 ✖ ⚡ = 🚤\n",
    "\n",
    "The figure above assumes $q_i=1$, but we can get different flows around the same geometry by adjusting this strength array. But how can we set $q_i$ to, say, compute the flow over an ellipse moving to the left?\n",
    "\n",
    "The Lapace equation $\\nabla^2 \\phi = 0$ is satisfied automatically for any set of panel strengths so we need to determine $q_i$ another way. \n",
    "\n",
    "Instead the strength is determined using the normal velocity body boundary condition \n",
    "$$\\sum_i \\vec u_i\\cdot \\hat n = \\vec U \\cdot \\hat n \\quad\\text{on the body}$$ \n",
    "where $\\hat n$ is the body normal and $\\vec U$ is the body velocity. \n",
    "\n",
    "This equation can be applied at every panel $j$. Substitution gives\n",
    "\n",
    "$$\\sum_i q_i F^{\\vec u}_i(x_j,y_j)\\cdot \\hat n_j = \\sum_i a_{ji} q_i  = \\vec U \\cdot \\hat n_j \\quad\\text{on the body}$$\n",
    "\n",
    "where $a_{ji}$ is the normal velocity influence of panel $i$ on panel $j$. \n",
    "\n",
    "This is a system of linear equations which we can write in the familiar matrix form:\n",
    "$$ \\mathbf{A q} = \\mathbf{b}$$\n",
    "where $b_j=\\vec U \\cdot \\hat n_j$ and bold face indicates matrices and vectors. This linear system of equations can be solved for $q_i$ using [`numpy.linalg.solve`](https://numpy.org/doc/stable/reference/generated/numpy.linalg.solve.html).\n",
    "\n",
    "> **Note:** The velocity induced by a panel on itself ($a_{ii}$) isn't accurately computed using the `velocity` influence function, so I've added this contribution manually using $\\mathbf{A}=\\mathbf{A}+\\pi\\mathbf{I}$, where $\\mathbf{I}$ is the identity matrix."
   ]
  },
  {
   "cell_type": "code",
   "execution_count": null,
   "metadata": {
    "colab": {
     "base_uri": "https://localhost:8080/",
     "height": 697
    },
    "id": "ZopSLvzK6mY1",
    "outputId": "b6d53a8c-5237-4a09-ce26-19d575057576"
   },
   "outputs": [],
   "source": [
    "def properties(x0, y0, x1, y1):\n",
    "    \"properties of a line segment\"\n",
    "    sx, sy = x1-x0, y1-y0          # segment vector\n",
    "    xc, yc = x0+0.5*sx, y0+0.5*sy  # segment center\n",
    "    h = np.sqrt(sx**2 + sy**2)     # segment length\n",
    "    nx, ny = sy/h, -sx/h           # segment unit normal\n",
    "    return xc, yc, nx, ny, h\n",
    "\n",
    "def construct_A(x, y, G=source, args=(), aii=np.pi):\n",
    "    \"construct the velocity influence matrix\"\n",
    "    # influence of panel i on the normal velocity at each panel center\n",
    "    xc, yc, nx, ny, _ = properties(x[:-1], y[:-1], x[1:], y[1:])\n",
    "\n",
    "    def u_n(i):\n",
    "        u, v = velocity(xc, yc, x[i], y[i], x[i+1], y[i+1], G, args)\n",
    "        return u*nx + v*ny\n",
    "\n",
    "    # construct matrix\n",
    "    A = np.array([u_n(i) for i in range(len(yc))]).T\n",
    "    A += aii * np.eye(len(yc))  # add panel self-influence\n",
    "    return A, nx, ny\n",
    "\n",
    "Ux, Uy = -1, 1  # change the motion direction with this\n",
    "x, y = ellipse(N, rx, ry)\n",
    "A, nx, ny = construct_A(x, y)\n",
    "q = np.linalg.solve(A, Ux*nx + Uy*ny)\n",
    "plot_flow(x, y, q, EXY)"
   ]
  },
  {
   "cell_type": "markdown",
   "metadata": {},
   "source": [
    "Awesome! We can now solve for the potential flow around any set of moving panels!! **But is this flow correct?!?**\n",
    "\n",
    "> **Note:** We should never trust a numerical solution until we have tested the solver. \n",
    "\n",
    "At the very least, we insist that the solution $q$ **converges** as we increase the number of panels. This is easy to check:"
   ]
  },
  {
   "cell_type": "code",
   "execution_count": null,
   "metadata": {},
   "outputs": [],
   "source": [
    "for N in 2**(np.arange(6)+2):\n",
    "    x, y = ellipse(N, rx, ry)\n",
    "    A, nx, ny = construct_A(x, y)\n",
    "    q = np.linalg.solve(A, Ux*nx + Uy*ny)\n",
    "    plt.plot(np.linspace(-np.pi, np.pi, N), q, label=N)\n",
    "plt.xlabel(r'$\\theta$', size=14)\n",
    "plt.ylabel('q', rotation=0, size=14)\n",
    "plt.legend(title='N');"
   ]
  },
  {
   "cell_type": "markdown",
   "metadata": {
    "id": "YMQ1YZE-P_L6"
   },
   "source": [
    "We can see the solution does converge with $N$ and the difference between using 64 and 128 panels is extremely small. \n",
    "\n",
    "---\n",
    "\n",
    "## Added mass 🐙\n",
    "\n",
    "One of the most important applications of potential flow is the estimation of added mass due to body oscillations.  The oscillation displacement is written as\n",
    "\n",
    "$$\\vec \\xi = |\\xi_k| \\cos(\\omega t) \\hat e_k $$\n",
    "where $|\\xi_k|,\\omega$ are the oscillation amplitude and frequency and $k=1,2$ indicates motion in the $\\hat x = \\hat e_1$ and $\\hat y = \\hat e_2$ directions.\n",
    "\n",
    "There are two steps to predicting the added mass: \n",
    "\n",
    "**1. Determine the the potential for motion in direction $k$**\n",
    "\n",
    "The body velocity $\\frac{\\partial}{\\partial t}{\\vec\\xi}$ determines the potential via the $u_n=U_n$ boundary condition. If we define the unsteady potential as\n",
    "\n",
    "$$\\phi(t) = -|\\phi_k||\\xi_k|\\omega\\sin(\\omega t) $$\n",
    "where $|\\phi_k|$ is the potential _per motion velocity_, then substituting the potential and body velocity into the boundary condition gives\n",
    "\n",
    "$$ -\\omega\\sin(\\omega t) |\\xi_k| \\left(\\frac{\\partial |\\phi_k|}{\\partial n} -n_k\\right) = 0.$$\n",
    "Since the sine isn't always zero, the term in parenthesis must be set to zero. \n",
    "\n",
    "> **Note:** This is the same body boundary condition we used in the steady case. \n",
    "\n",
    "Therefore, defining $|\\phi_k| = \\sum_i q_{k,i} F_i^\\phi$ we can use the same normal velocity influence matrix to solve for the source strength of each panel due to body oscillations in direction $k$ as\n",
    "$$ \\mathbf{A}\\mathbf{q}_k = \\mathbf{n}_k$$\n",
    "\n",
    "**2. Integrate the pressure to determine the force**\n",
    "\n",
    "The added mass force is the integrated pressure due \n",
    "to the unsteady potential\n",
    "\n",
    "$$ \\vec f = \\rho \\oint \\frac{\\partial\\phi}{\\partial t} \\hat n ds$$\n",
    "\n",
    "Substiting $\\phi$ gives the $l$-component of the added mass force as\n",
    "\n",
    "$$ f_l = \\sum_k \\rho \\oint -\\omega^2\\cos(\\omega t)|\\phi_k||\\xi_k|\\ n_l\\ ds = -\\sum_{k} \\ddot\\xi_k m_{kl}$$\n",
    "where $\\ddot\\xi_k=-\\omega^2 |\\xi_k|\\cos(\\omega t)$ is the body acceleration and $m_{kl}$ is the added mass matrix\n",
    "$$ m_{kl} = -\\rho\\oint |\\phi_k| n_l ds = -\\rho\\sum_j |\\phi_{k,j}| n_{l,j} h_j . $$\n",
    "\n",
    "Substituting the equation for $|\\phi_k|$ gives\n",
    "$$ m_{kl} = -\\rho\\sum_j\\sum_i q_{k,i} F_i^\\phi(x_j,y_j) n_{l,j} h_j $$\n",
    "\n",
    "That's it. Solve for each $q_k$ as before, and then plug it into double summation.\n",
    "\n",
    "Newman gives the analytic the added mass of an ellipse with semi-axis lengths $r_x,r_y$ as $m_{11} = \\rho \\pi r_y^2,\\ m_{22}=\\rho\\pi r_x^2$. Therefore, we can use this case to **validate** our numerical method!\n",
    "\n",
    "> **Note:** A numerical method is validated if the solution converges to a known exact solution. "
   ]
  },
  {
   "cell_type": "code",
   "execution_count": null,
   "metadata": {
    "colab": {
     "base_uri": "https://localhost:8080/"
    },
    "id": "agJZA_W71tBB",
    "outputId": "bc98a098-9bfc-4dff-ba7e-19d496dc634f"
   },
   "outputs": [],
   "source": [
    "def added_mass(x, y, G=source, args=(), rho=1):\n",
    "    \"Compute the added mass matrix\"\n",
    "    # strength due to x,y motion\n",
    "    A, n1, n2 = construct_A(x, y, G, args)\n",
    "    q1 = np.linalg.solve(A, n1)\n",
    "    q2 = np.linalg.solve(A, n2)\n",
    "\n",
    "    # potential due to y,z motion (times panel width)\n",
    "    xc, yc, _, _, h = properties(x[:-1], y[:-1], x[1:], y[1:])\n",
    "    hF = [h*potential(xc, yc, x[i], y[i], x[i+1], y[i+1], G, args) for i in range(len(yc))]\n",
    "    phi1, phi2 = hF@q1, hF@q2  # potential influence matrix times strength\n",
    "\n",
    "    # sum over panels\n",
    "    return -rho * np.matrix([[phi1@n1,phi1@n2], [phi2@n1,phi2@n2]])\n",
    "\n",
    "# test add_mass\n",
    "def err(m, r): return 100*(m/(np.pi*r**2)-1)\n",
    "print('    |   % error\\n N  |  m11 |  m22 ')\n",
    "rx, ry = 1.5, 0.75\n",
    "for N in 2**(np.arange(6)+4):\n",
    "    m = added_mass(*ellipse(N, rx, ry))\n",
    "    print(f'{N:3} | {err(m[0,0],ry):.2f} | {err(m[1,1],rx):.2f}')"
   ]
  },
  {
   "cell_type": "markdown",
   "metadata": {
    "id": "IS9ERngAhcb3"
   },
   "source": [
    "The error is less than 1% for the added mass coefficients using only 32-64 panels and converges to zero with more panels. The code is validated!\n",
    "\n",
    "> **Note:** The error goes down by $\\times 2$ when the number of panels increases by $\\times 2$. Therefore the error is proportional to the panel size, $\\varepsilon\\sim h$, which is called _linear_ convergence. "
   ]
  },
  {
   "cell_type": "code",
   "execution_count": null,
   "metadata": {},
   "outputs": [],
   "source": []
  }
 ],
 "metadata": {
  "colab": {
   "authorship_tag": "ABX9TyOZpwpv2D0uVxc6yRE2lcTv",
   "collapsed_sections": [],
   "include_colab_link": true,
   "name": "Green function version",
   "provenance": []
  },
  "interpreter": {
   "hash": "b3ba2566441a7c06988d0923437866b63cedc61552a5af99d1f4fb67d367b25f"
  },
  "kernelspec": {
   "display_name": "Python 3 (ipykernel)",
   "language": "python",
   "name": "python3"
  },
  "language_info": {
   "codemirror_mode": {
    "name": "ipython",
    "version": 3
   },
   "file_extension": ".py",
   "mimetype": "text/x-python",
   "name": "python",
   "nbconvert_exporter": "python",
   "pygments_lexer": "ipython3",
   "version": "3.8.12"
  }
 },
 "nbformat": 4,
 "nbformat_minor": 4
}

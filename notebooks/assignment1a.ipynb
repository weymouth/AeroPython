{
 "cells": [
  {
   "cell_type": "markdown",
   "metadata": {},
   "source": [
    "# Assignment 1(a): Roll added-inertia of a submerged body\n",
    "\n",
    "## Note: This assignment is incomplete and subject to change\n",
    "\n",
    "You will extend the functions from the panel method notebook to predict the flow and forces induced by roll motion.\n",
    "\n",
    "1. Determine the normal velocity $\\vec U \\cdot \\hat n$ at a point $(x,y)$ due to roll motion in $z$ around the point $(x_m,y_m)$. Briefly explain why this is the RHS of the equation $\\mathbf{A q_6=b_6}$, where $\\mathbf{A}$ is the normal-velocity influence matrix, and $\\mathbf{q_6}$ is the panel source strength vector. Determine the equation for the roll added inertia $m_{66}$ in terms of these vectors and the potential influence function $F^\\phi$.\n",
    "\n",
    "1. Write a function `roll(x,y,xm=0,ym=0)` which takes in an array of section coordinates `x,y` and a center of roll motion `(xm,ym)` and returns the roll source strength $\\mathbf{q_6}$ and added inertia $m_{66}$. Validate the `roll` function by comparing to a known exact $m_{66}$ value for a fully submerged shape. Clearly cite your source, determine the number of panels required to achieve 1% error and plot the flow on the shape. \n"
   ]
  },
  {
   "cell_type": "code",
   "execution_count": 1,
   "metadata": {},
   "outputs": [],
   "source": [
    "# Import functions\n",
    "import os, sys\n",
    "module_path = os.path.abspath(os.path.join('..'))\n",
    "if module_path not in sys.path:\n",
    "    sys.path.append(module_path)\n",
    "from src.GreensFunction import *\n",
    "from src.GeometriesAndPlots import *"
   ]
  },
  {
   "cell_type": "code",
   "execution_count": 2,
   "metadata": {},
   "outputs": [],
   "source": [
    "# Complete function\n",
    "# def roll(x,y,xb=0,yb=0):\n",
    "#     return q6,m66\n",
    "\n",
    "# Create validation geometry, validate m66, and plot flow"
   ]
  },
  {
   "cell_type": "code",
   "execution_count": null,
   "metadata": {},
   "outputs": [],
   "source": []
  }
 ],
 "metadata": {
  "kernelspec": {
   "display_name": "Python 3 (ipykernel)",
   "language": "python",
   "name": "python3"
  },
  "language_info": {
   "codemirror_mode": {
    "name": "ipython",
    "version": 3
   },
   "file_extension": ".py",
   "mimetype": "text/x-python",
   "name": "python",
   "nbconvert_exporter": "python",
   "pygments_lexer": "ipython3",
   "version": "3.8.12"
  }
 },
 "nbformat": 4,
 "nbformat_minor": 4
}

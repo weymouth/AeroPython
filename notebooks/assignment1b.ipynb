{
 "cells": [
  {
   "cell_type": "markdown",
   "metadata": {},
   "source": [
    "\n",
    "# Assignment 1(b): Roll wave damping\n",
    "\n",
    "## Note: This assignment is incomplete and subject to change\n",
    "\n",
    "You will use the functions from the Wave Greens Function notebook to check the data from the roll damping lab and predict the damping characteristics of a 2D ship section across a range of parameters.\n",
    "\n",
    "1. Use the roll lab data to estimate the natural frequency of the model and the added inertia and damping coefficient at this frequency. Use the function provided to model the geometry of the roll lab, and plot the flow at the measured natural frequency. Predict the added-intertia and damping coefficients using the `roll` function developed previously and discuss how they compare to the lab values. \n",
    "\n",
    "1. Create a \"maritime section\" of your choice with a single dimensionless geometric parameter. For example, an ellipse with a variable aspect ratio $r_x/r_y$; *although you may not use this shape as your geometry*. Determine the added mass and damping coefficient as a function of the nondimensional frequency $\\omega\\sqrt{B/2g}$ for at least three values of the geometric parameter. Discuss any important changes in $A_{66}$, $B_{66}$ and if they seem physically realistic."
   ]
  },
  {
   "cell_type": "code",
   "execution_count": null,
   "metadata": {},
   "outputs": [],
   "source": [
    "# Import functions\n",
    "import os, sys\n",
    "module_path = os.path.abspath(os.path.join('..'))\n",
    "if module_path not in sys.path:\n",
    "    sys.path.append(module_path)\n",
    "from src.GreensFunction import *\n",
    "from src.GeometriesAndPlots import *"
   ]
  },
  {
   "cell_type": "code",
   "execution_count": null,
   "metadata": {},
   "outputs": [],
   "source": []
  }
 ],
 "metadata": {
  "kernelspec": {
   "display_name": "Python 3 (ipykernel)",
   "language": "python",
   "name": "python3"
  },
  "language_info": {
   "codemirror_mode": {
    "name": "ipython",
    "version": 3
   },
   "file_extension": ".py",
   "mimetype": "text/x-python",
   "name": "python",
   "nbconvert_exporter": "python",
   "pygments_lexer": "ipython3",
   "version": "3.8.12"
  }
 },
 "nbformat": 4,
 "nbformat_minor": 4
}

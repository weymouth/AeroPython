{
 "cells": [
  {
   "cell_type": "markdown",
   "metadata": {},
   "source": [
    "\n",
    "# Assignment 1(b): Wave added mass and damping\n",
    "\n",
    "You will use the functions from the Wave Greens Function notebook to check the data from the roll damping lab and predict the damping characteristics of a 2D ship section across a range of parameters.\n",
    "\n",
    "1. **To be completed per 7 or 8-person lab session:** Determine the natural frequency $\\omega_n$ of the model and damping ratio $\\zeta$ at this frequency using both the free-decay and forced oscillation roll data. Approximate the model midship geometry, and predict the added-inertia and damping coefficients $A_{44},B_{44}$ at the observed natural frequency. Use the model's bouyant stiffness $mgl_{GM}$ and moment of inertia $I$ to compare the _calculated_ and _measured_ natural frequency $\\omega_n^2=\\frac{mgl_{GM}}{I+A_{44}}$ and damping ratio $\\zeta=\\frac 1{2\\omega_n} \\frac{B_{44}}{I+A_{44}}$. Discuss the potential sources of error in this approach.\n",
    "\n",
    "1. **To be completed per 2 or 3-person group:** Create a \"maritime section\" of your choice and demonstrate how the geometry changes over a dimensionless geometric parameter. An example is the aspect ratio of an semi-submerged ellipse, *although you may not use this shape as your geometry*. Determine the surge, sway, and/or roll added mass and damping coefficients as a function of the nondimensional frequency and the geometric parameter. Discuss any important changes in the coefficients and their physical cause. Identify a worst-case excitation for your geometry and a potential mitigation.\n",
    "\n",
    "## Due 23:59, 17 Mar 2022\n",
    "\n",
    "* Submit separate write-up files for Q1 and Q2.\n",
    "* You can use a whatever method you want to identify the amplitudes and frequencies from the roll data, but you need to explain your approach and submit a file with the final tabulated data which appears in your Q1 plots. \n",
    "* Submit any code needed to replicate your section geometries, added mass and damping results, and plots."
   ]
  },
  {
   "cell_type": "code",
   "execution_count": null,
   "metadata": {},
   "outputs": [],
   "source": [
    "# Import functions\n",
    "import requests\n",
    "url = 'https://raw.githubusercontent.com/weymouth/MarineHydro/master/src/PanelMethod.py'\n",
    "exec(requests.get(url).content)\n",
    "url = 'https://raw.githubusercontent.com/weymouth/MarineHydro/master/src/WaveMethod.py'\n",
    "exec(requests.get(url).content)"
   ]
  }
 ],
 "metadata": {
  "kernelspec": {
   "display_name": "Python 3 (ipykernel)",
   "language": "python",
   "name": "python3"
  },
  "language_info": {
   "codemirror_mode": {
    "name": "ipython",
    "version": 3
   },
   "file_extension": ".py",
   "mimetype": "text/x-python",
   "name": "python",
   "nbconvert_exporter": "python",
   "pygments_lexer": "ipython3",
   "version": "3.8.12"
  }
 },
 "nbformat": 4,
 "nbformat_minor": 4
}

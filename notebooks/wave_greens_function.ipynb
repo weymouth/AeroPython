{
 "cells": [
  {
   "cell_type": "markdown",
   "metadata": {
    "colab_type": "text",
    "id": "view-in-github"
   },
   "source": [
    "<a href=\"https://colab.research.google.com/github/weymouth/MarineHydro/blob/master/notebooks/wave_greens_function.ipynb\" target=\"_parent\"><img src=\"https://colab.research.google.com/assets/colab-badge.svg\" alt=\"Open In Colab\"/></a>"
   ]
  },
  {
   "cell_type": "markdown",
   "metadata": {},
   "source": [
    "# Free surface potential flows 🌊\n",
    "\n",
    "The goal of this notebook is to compute the potential flow and forces on a body in waves, but let's start with a recap. In the first notebook we developed a numerical method to compute the potential flow around any submerged 2D geometry using source panels. This also lets us comptue the added mass forces. Here's the code from that notebook:"
   ]
  },
  {
   "cell_type": "code",
   "execution_count": null,
   "metadata": {
    "colab": {
     "base_uri": "https://localhost:8080/",
     "height": 432
    },
    "id": "X34nL-TknsFE",
    "outputId": "0c79cacc-cdea-4904-b5d3-eb287787bae5"
   },
   "outputs": [],
   "source": [
    "import numpy as np\n",
    "from matplotlib import pyplot as plt\n",
    "\n",
    "def source(x, y, xs, ys): return 0.5 * np.log((x-xs)**2 + (y-ys)**2)\n",
    "\n",
    "GAUSS2 = 0.5 * (1 + np.sqrt(1/3))  # gaussian-quadrature sample point\n",
    "def potential(x, y, x0, y0, x1, y1, G=source, args=()):\n",
    "    \"Gaussian quadrature estimate of the potential influence function\"\n",
    "    def dG(s): return G(x, y, x0*(1-s)+x1*s, y0*(1-s)+y1*s, *args)\n",
    "    h = np.sqrt((x1-x0)**2 + (y1-y0)**2)\n",
    "    return 0.5*h*sum(dG(s) for s in [GAUSS2, 1-GAUSS2])\n",
    "\n",
    "def velocity(x, y, x0, y0, x1, y1, G=source, args=(), eps=1e-6):\n",
    "    \"\"\"Finite difference estimate of the velocity influence function\"\"\"\n",
    "    def phi(x, y): return potential(x, y, x0, y0, x1, y1, G, args)\n",
    "    return np.array(((phi(x+eps, y) - phi(x-eps, y)) / (2*eps),   # dphi/dx\n",
    "                     (phi(x, y+eps) - phi(x, y-eps)) / (2*eps)))  # dphi/dy\n",
    "\n",
    "def plot_flow(x, y, q, XY, G=source, args=(), size=(7,7), ymax=None):\n",
    "    # Loop through segments, superimposing the velocity\n",
    "    def uv(i): return q[i]*velocity(*XY, x[i], y[i], x[i+1], y[i+1], G, args)\n",
    "    UV = sum(uv(i) for i in range(len(x)-1))\n",
    "\n",
    "    # Create plot\n",
    "    plt.figure(figsize=size)\n",
    "    ax = plt.axes()\n",
    "    ax.set_aspect('equal', adjustable='box')\n",
    "\n",
    "    # Plot vectors and segments\n",
    "    Q = plt.quiver(*XY, *np.real(UV))\n",
    "    if np.iscomplexobj(UV):\n",
    "        Q._init()\n",
    "        plt.quiver(*XY, *np.imag(UV), scale=Q.scale, color='g')\n",
    "    plt.plot(x, y, c='b')\n",
    "    plt.ylim(None, ymax)\n",
    "    \n",
    "def ellipse(N, a=1, b=1, theta1=np.pi):\n",
    "    \"x,y arrays around an elliptical arc\"\n",
    "    theta = np.linspace(-np.pi, theta1, N+1)  # N+1 points for N panels\n",
    "    return a*np.cos(theta), b*np.sin(theta)\n",
    "\n",
    "def mask_grid(x, y, mask):\n",
    "    \"delete mesh points where mask is true\"\n",
    "    def delete(a): return np.ma.masked_array(a, mask(x,y)).compressed()\n",
    "    return np.array((delete(x), delete(y)))\n",
    "\n",
    "def properties(x0, y0, x1, y1):\n",
    "    \"properties of a line segment\"\n",
    "    sx, sy = x1-x0, y1-y0          # segment vector\n",
    "    xc, yc = x0+0.5*sx, y0+0.5*sy  # segment center\n",
    "    h = np.sqrt(sx**2 + sy**2)     # segment length\n",
    "    nx, ny = sy/h, -sx/h           # segment unit normal\n",
    "    return xc, yc, nx, ny, h\n",
    "\n",
    "def construct_A(x, y, G=source, args=(), aii=np.pi):\n",
    "    \"construct the velocity influence matrix\"\n",
    "    # influence of panel i on the normal velocity at each panel center\n",
    "    xc, yc, nx, ny, _ = properties(x[:-1], y[:-1], x[1:], y[1:])\n",
    "\n",
    "    def u_n(i):\n",
    "        u, v = velocity(xc, yc, x[i], y[i], x[i+1], y[i+1], G, args)\n",
    "        return u*nx + v*ny\n",
    "\n",
    "    # construct matrix\n",
    "    A = np.array([u_n(i) for i in range(len(yc))]).T\n",
    "    A += aii * np.eye(len(yc))  # add panel self-influence\n",
    "    return A, nx, ny\n",
    "\n",
    "def added_mass(x, y, G=source, args=(), rho=1):\n",
    "    \"Compute the added mass matrix\"\n",
    "    # strength due to x,y motion\n",
    "    A, n1, n2 = construct_A(x, y, G, args)\n",
    "    q1 = np.linalg.solve(A, n1)\n",
    "    q2 = np.linalg.solve(A, n2)\n",
    "\n",
    "    # potential due to y,z motion (times panel width)\n",
    "    xc, yc, _, _, h = properties(x[:-1], y[:-1], x[1:], y[1:])\n",
    "    hF = [h*potential(xc, yc, x[i], y[i], x[i+1], y[i+1], G, args) for i in range(len(yc))]\n",
    "    phi1, phi2 = hF@q1, hF@q2  # potential influence matrix times strength\n",
    "\n",
    "    # sum over panels\n",
    "    return -rho * np.matrix([[phi1@n1,phi1@n2], [phi2@n1,phi2@n2]])"
   ]
  },
  {
   "cell_type": "markdown",
   "metadata": {},
   "source": [
    "To clean things up, you can delete the cell above and uncomment the cell below:"
   ]
  },
  {
   "cell_type": "code",
   "execution_count": null,
   "metadata": {},
   "outputs": [],
   "source": [
    "import numpy as np\n",
    "from matplotlib import pyplot as plt\n",
    "import os, sys\n",
    "module_path = os.path.abspath(os.path.join('..'))\n",
    "if module_path not in sys.path:\n",
    "    sys.path.append(module_path)\n",
    "from src.PanelMethod import *"
   ]
  },
  {
   "cell_type": "markdown",
   "metadata": {
    "id": "IS9ERngAhcb3",
    "tags": []
   },
   "source": [
    "## Free surface Greens Function 🌊\n",
    "\n",
    "The method above can predict the potential flow and added mass around any 2D shape (or shapes...) completely immersed in air or water. However, when an object moves near the free surface it generates waves, and this changes the flow and forces significantly. \n",
    "\n",
    "**We need to modify the oscillating source potential used above and add the potential flow waves which it generates.**  Here is the potential, taken from [this modern paper](https://www.researchgate.net/profile/Ed-Mackay/publication/344610701_Calculation_of_the_two-dimensional_free_surface_Green_function/links/5f84519f299bf1b53e20e1f2/Calculation-of-the-two-dimensional-free-surface-Green-function.pdf):\n",
    "\n",
    "$$ G(x,y,x_s,y_s) = \\log(r_s)-2\\pi \\imath e^Z-2f(Z) $$\n",
    "\n",
    "There are three terms:\n",
    "\n",
    "1. The first term is the **oscillating source** defined as before.\n",
    "\n",
    "2. The second term is the **propagating wave** written using complex variables. The standard wave potential is \n",
    "$$ \\phi = \\frac{|\\eta|g}{\\omega} e^{Ky}\\cos(Kx-\\omega t+\\Phi) $$\n",
    "where $\\omega$ is the oscillation frequency, $|\\eta|,\\Phi$ are the wave amplitude and phase and $K=\\omega^2/g$ is the deep water wave number. In complex variables we have $e^{\\imath\\theta} = \\cos\\theta+\\imath\\sin\\theta$, where $\\imath=\\sqrt{-1}$. Therefore we can write\n",
    "$$ \\phi = \\text{Re}\\left[|\\zeta| e^{K(y+\\imath x)}e^{-\\imath\\omega t}\\right] $$\n",
    "where $|\\zeta|$ is a complex amplitude that includes the phase relative to the motion. The wave term in the equation above is a modification of this basic idea defining $Z=K(y+y_s+\\imath(x-x_s))$ and scaling the amplitude relative to the oscillating source. \n",
    "\n",
    "3. Finally, the last term is a **standing wave** potential that ensures the oscillating souce satisfies the free surface boundary condition\n",
    "$$ K\\phi-\\frac{\\partial\\phi}{\\partial y} = 0 \\quad\\text{on}\\quad y=0$$\n",
    "\n",
    "Let's look at the velocity field induced by a single source panel near the free surface."
   ]
  },
  {
   "cell_type": "code",
   "execution_count": null,
   "metadata": {
    "colab": {
     "base_uri": "https://localhost:8080/",
     "height": 374
    },
    "id": "tlhghDFbddjw",
    "outputId": "28a78b78-4590-4002-e8bb-213960356cb8"
   },
   "outputs": [],
   "source": [
    "from scipy.special import exp1\n",
    "\n",
    "def wave_source(x, y, xs, ys, K):\n",
    "    \"Source plus generated free surface waves\"\n",
    "    r2 = (x-xs)**2 + (y-ys)**2   # source square-distance\n",
    "    Z = K * (y + ys + 1j*abs(x-xs))  # wave number scaled complex vector\n",
    "    eZ = np.exp(Z)             # propagating wave potential\n",
    "    # standing wave potential\n",
    "    fZ = 2*np.real(eZ*exp1(Z)) + np.log(np.abs(Z)/K)\n",
    "    return 0.5*np.log(r2) - 2j*np.pi*eZ - fZ\n",
    "\n",
    "XY = np.meshgrid(np.linspace(-3,3,66), np.linspace(-2,0,22))\n",
    "K = 4\n",
    "\n",
    "plot_flow([-.1,.1], [-.77,-0.65], [1], XY, wave_source, (K,), size=(16,6), ymax=0.6)"
   ]
  },
  {
   "cell_type": "markdown",
   "metadata": {
    "id": "DYPCTTaK9apT"
   },
   "source": [
    "The black arrows show the flow velocity in phase with the body velocity (the part with $\\sin\\omega t$ like before). Now that we have free surface waves, we also have velocity out of phase with the body ($\\cos\\omega t$), shown in the green arrows. \n",
    "\n",
    "This is easier to understand using a movie!\n",
    "\n",
    "> **Note:** It takes a while for Python to generate the videos, so I've commented those lines out. Uncomment and play around with the flows in the following cells as much as you like."
   ]
  },
  {
   "cell_type": "code",
   "execution_count": null,
   "metadata": {
    "colab": {
     "base_uri": "https://localhost:8080/",
     "height": 453
    },
    "id": "cAEn5gFfogct",
    "outputId": "dfa28734-1d88-4d0e-e669-3d891d2762be"
   },
   "outputs": [],
   "source": [
    "from matplotlib.animation import FuncAnimation\n",
    "from IPython.display import HTML\n",
    "\n",
    "def wave_video(x, y, q, XY, G=wave_source,args=(4,), size=(16,6)):\n",
    "    # Get complex velocity\n",
    "    def uv(i): return q[i]*velocity(*XY, x[i], y[i], x[i+1], y[i+1], G, args)\n",
    "    UV = sum(uv(i) for i in range(len(x)-1))\n",
    "\n",
    "    # Plot flow and segments\n",
    "    fig, ax = plt.subplots(1, 1, figsize=size)\n",
    "    Q = ax.quiver(*XY, *UV)#, pivot='mid')\n",
    "    ax.plot(x,y,c='b')\n",
    "    ax.set_ylim(None, 0.5)\n",
    "    ax.set_aspect('equal', adjustable='box')\n",
    "    plt.close()\n",
    "\n",
    "    # run through a wave period\n",
    "    def update_quiver(num, Q):\n",
    "        Q.set_UVC(*np.real(UV*np.exp(-2j*np.pi*num/101)))\n",
    "        return Q,\n",
    "\n",
    "    # create the animation\n",
    "    return FuncAnimation(fig, update_quiver, fargs=(Q,), interval=50)\n",
    "\n",
    "# anim = wave_video([-.1,.1], [-.77,-0.65], [1], XY)\n",
    "# HTML(anim.to_html5_video())"
   ]
  },
  {
   "cell_type": "markdown",
   "metadata": {
    "id": "pwZd31VLK_8F"
   },
   "source": [
    "[![Link to video](http://i3.ytimg.com/vi/3DSdek0stHM/hqdefault.jpg)](https://youtu.be/3DSdek0stHM)\n",
    "\n",
    "Looks good. The source, standing wave above it, and the radiating waves on either side are all visible. \n",
    "\n",
    "> **Note:** Now that you've seen the video, go back and look at the plot above. The black and green arrows are like snapshots of the video at the start and quarter of the way through a cycle. While the movie is certainly easier to digest, it's important to realize the complex amplitude $|\\phi_k|$ has all the information needed to make the movie.\n",
    "\n",
    "---\n",
    "\n",
    "## Solving for free surface potential flows and forces 🛥\n",
    "\n",
    "> **Note:** The plots above use the original `velocity` function, they just apply the new `wave_source` singularity instead of the `source` singularity. Similarly, the `potential` `construct_A` and `added_mass` functions can all by applied to free surface flows without modification!\n",
    "\n",
    "This is why writing re-usable functions is so powerful. Let's use our new Green's function to produce the flow around a semi-circular ship section in sway."
   ]
  },
  {
   "cell_type": "code",
   "execution_count": null,
   "metadata": {
    "colab": {
     "base_uri": "https://localhost:8080/",
     "height": 360
    },
    "id": "_r0nlNDg9wd7",
    "outputId": "168e49cc-aff4-41dd-a3cd-cae62051fbf2"
   },
   "outputs": [],
   "source": [
    "x,y = ellipse(16, theta1=0)\n",
    "circleXY = mask_grid(*XY, mask=lambda x, y: x**2 + y**2<1)\n",
    "K=2\n",
    "A, nx, ny = construct_A(x, y, wave_source, (K,))\n",
    "plot_flow(x, y, np.linalg.solve(A, nx), circleXY, wave_source, (K,), size=(14,6), ymax=0.5)\n",
    "# anim = wave_video(x,y,q,circleXY,wave_source,(K,))\n",
    "# HTML(anim.to_html5_video())"
   ]
  },
  {
   "cell_type": "markdown",
   "metadata": {
    "id": "bRmpFo0UL9E3"
   },
   "source": [
    "That's amazing! You can clearly see the waves radiating away from the ship hull in either direction. When the ship moves to port, it forms a new crest on the port side, and vis versa!\n",
    "\n",
    "Finally let's get the added mass:"
   ]
  },
  {
   "cell_type": "code",
   "execution_count": null,
   "metadata": {
    "colab": {
     "base_uri": "https://localhost:8080/"
    },
    "id": "-naxCQ_OoAS-",
    "outputId": "aee17506-792e-4dab-83dc-3d08794d770a"
   },
   "outputs": [],
   "source": [
    "ma = added_mass(x,y,wave_source,(K,))\n",
    "print(np.array_str(ma, precision=3, suppress_small=True))"
   ]
  },
  {
   "cell_type": "markdown",
   "metadata": {
    "id": "77xtrqgjdkqh"
   },
   "source": [
    "Look carefully at this result because two important things have changed since we moved into free surface flows\n",
    "1. **The \"added mass\" has a real and complex part!** This is because some of the force is in-phase with acceleration (like before) and some is in-phase with velocity. The first part is the sectional added mass $A_{kl}$ and the second part is the wave damping $B_{kl}$. The damping is due to the energy leaving the system in the radiating waves, which is why the damping is zero when there is no free surface. \n",
    "1. **The added mass and damping depend on the motion direction and wave number!** A fully submerged circle of radius $R$ has $m_{kk}=\\rho \\pi R^2$ independant of the oscillation frequency or direction. But the standing and radiating waves must satisfy the free surface boundary condition, which depends on $K$, and their amplitude and phase depends on the direction of motion $k$. Therefore the added mass and damping matrices are functions of $K$ and $k$ as well.\n",
    "\n",
    "Let's plot these coefficients for a range of dimensionless frequencies $\\omega \\sqrt{R/g}$"
   ]
  },
  {
   "cell_type": "code",
   "execution_count": null,
   "metadata": {
    "colab": {
     "base_uri": "https://localhost:8080/",
     "height": 304
    },
    "id": "rnyuI1wkc8Pr",
    "outputId": "4f67cbe3-60dd-443e-d7e1-7937bebab10d"
   },
   "outputs": [],
   "source": [
    "def force_plots(y,z,omega,rhoV=0.5*np.pi):\n",
    "    @np.vectorize\n",
    "    def force_coeffs(omega):\n",
    "        ma = added_mass(y,z,wave_source,(omega**2,))\n",
    "        return (np.real(ma[0,0])/rhoV,omega*np.imag(ma[0,0])/rhoV,  #22\n",
    "                np.real(ma[1,1])/rhoV,omega*np.imag(ma[1,1])/rhoV)  #33\n",
    "\n",
    "    A22,B22,A33,B33 = force_coeffs(omega)\n",
    "\n",
    "    f, (hplt,splt) = plt.subplots(1, 2, sharex=True, sharey=True, figsize=(9,4))\n",
    "    plt.ylim(0,2)\n",
    "    hplt.set_title('Heave')\n",
    "    hplt.plot(omega, A33, 'C0', label=r'$A_{33}/\\rho V$')\n",
    "    hplt.plot(omega, B33, 'C1', label=r'$B_{33}\\sqrt{R}/\\rho V\\sqrt{g}$')\n",
    "    splt.set_title('Sway')\n",
    "    splt.plot(omega, A22, 'C0', label=r'$A_{22}/\\rho V$')\n",
    "    splt.plot(omega, B22, 'C1', label=r'$B_{22}\\sqrt{R}/\\rho V\\sqrt{g}$')\n",
    "    for ax in (hplt, splt):\n",
    "        ax.set_xlabel(r'$\\omega\\sqrt{R/g}$')\n",
    "        ax.legend()\n",
    "\n",
    "omega = np.linspace(0.1,2)\n",
    "y, z = ellipse(64, theta1=0)\n",
    "force_plots(y, z, omega)"
   ]
  },
  {
   "cell_type": "markdown",
   "metadata": {
    "id": "9z_gNIKckv4d"
   },
   "source": [
    "> **Note:** We've switched to a section in the $y,z$ plane, since this is standard for strip theory. This doesn't change *anything* in the `added_mass` or `wave_source` functions - we simply pass $y,z$ coordinates in and get sway and heave forces out.\n",
    "\n",
    "Here are some experimental and analytic results for the added mass and damping on a semi-circle from [Vugts 1968](https://content.iospress.com/download/international-shipbuilding-progress/isp15-167-02?id=international-shipbuilding-progress%2Fisp15-167-02). \n",
    "\n",
    "| Heave| Sway|\n",
    "|-|-|\n",
    "|![heave](https://drive.google.com/uc?export=view&id=1JYMgqOeW_UEGjXzq1VrbZ5_HQXsh3ayI) | ![sway](https://drive.google.com/uc?export=view&id=19P67Q0zPyW_yquO_37lOhHZEFMJlnNiV)|\n",
    "\n",
    "\n",
    "Our results match the analytic results in the paper really well (other than at two special points that we will discuss in a moment). This validates our free surface force predictions!\n",
    "\n",
    "The potential flow methods both match the experiments nicely other than the zero frequency heave added mass. Zero frequency heave is not linear - and so linear potential flow can't predict it.\n",
    "\n",
    "---\n",
    "\n",
    "> **Note:** The two blips in our added mass prediction results are due to resonance *inside* the geometry! These are the frequencies we should be watch if we could potentially have sloshing cargo! \n",
    "\n",
    "The flow *inside* the hull is plotted below - showing an internal standing wave. This wave totally dominates the flow and causes a loss of accuracy in the added mass calculation, but we can just ignore the prediction at those points."
   ]
  },
  {
   "cell_type": "code",
   "execution_count": null,
   "metadata": {},
   "outputs": [],
   "source": [
    "K = 3.25 # sway sloshing wavenumber from plot above\n",
    "A, ny, nz = construct_A(y, z, wave_source, (K,))\n",
    "YZ = np.meshgrid(np.linspace(-1,1,22), np.linspace(-1,0,11))\n",
    "inside = mask_grid(*YZ, mask=lambda y,z: y**2 + z**2 > 1)\n",
    "plot_flow(y, z, np.linalg.solve(A, ny), inside, wave_source, (K,), size=(8,6), ymax=0.5)\n",
    "# anim = wave_video(y,z,q,inside,wave_source,(K,),size=(8,6))\n",
    "# HTML(anim.to_html5_video())"
   ]
  },
  {
   "cell_type": "markdown",
   "metadata": {
    "id": "9z_gNIKckv4d"
   },
   "source": [
    "---\n",
    "\n",
    "## Multiple geometries ⛵⛵\n",
    "\n",
    "The functions above only compute the flow and forces around a single shape - they take in **one** `x,y` array pair. How can we compute the flow induced by more than one shape, like a multi-hull ship? Here are some ideas:\n",
    "\n",
    "1. *Superposition:* Can we define the geometries, solve for each flow separately, and then add the flow and forces together? \n",
    "\n",
    "No. If we solve for the flows separately, we will miss the influence of the bodies on each other. When we add them up, the body BC won't be satisfied and so the flow and forces will be wrong.\n",
    "\n",
    "2. *Concatenation:* Can we stack all the body arrays together, and then solve for the flow?\n",
    "\n",
    "This approach includes the influence of each body on the other, but it will also create fake panels linking the bodies together. We need to zero the influence of those non-panels to use this approach - as I've done below.\n",
    "\n",
    "3. *Images:* Can we apply the method of images to reflect the geometry across the $y$ axis?\n",
    "\n",
    "Yes, and this is the classic approach (since it play nice with analytic models) but there are some caveats. Importantly, this only works when you have a plane of symmetry! So you can't use this to model two independent boats - even if the hulls are identical, their motions won't be. "
   ]
  },
  {
   "cell_type": "code",
   "execution_count": null,
   "metadata": {
    "colab": {
     "base_uri": "https://localhost:8080/",
     "height": 206
    },
    "id": "KLDJ_WR6PFYe",
    "outputId": "b8310a81-8b4a-4fac-cc3f-3385a8a3be01"
   },
   "outputs": [],
   "source": [
    "def circle_cat(N, g):\n",
    "    ya,za = ellipse(N//2, theta1=0)\n",
    "    yb,zb = ellipse(N//2, theta1=0)\n",
    "    ya += 1 + g\n",
    "    yb -= 1 + g\n",
    "    return np.append(ya,yb), np.append(za,zb), [N//2]\n",
    "\n",
    "def zero_influence(A, nx, ny, blank):\n",
    "    for i in blank:\n",
    "        A[i,:] = np.zeros(len(nx))\n",
    "        A[i,i] = 1\n",
    "        nx[i] = 0; ny[i] = 0\n",
    "    return A, nx, ny\n",
    "\n",
    "N, K, gap = 32, 4, 1\n",
    "y, z, blank = circle_cat(N, gap)\n",
    "catYZ = np.meshgrid(np.linspace(-6,6,108), np.linspace(-2,0,18))\n",
    "catYZ = mask_grid(*catYZ, mask=lambda y, z: (abs(y)-1-gap)**2 + z**2 < 1)\n",
    "A, ny, nz = zero_influence(*construct_A(y,z,wave_source, (K,)), blank)\n",
    "q = np.linalg.solve(A, nz)\n",
    "plot_flow(y, z, q, catYZ, wave_source, (K,), size=(14,6), ymax=0.5)\n",
    "# anim = wave_video(y,z,q,catYZ,wave_source,(K,),size=(14,6))\n",
    "# HTML(anim.to_html5_video())"
   ]
  },
  {
   "cell_type": "markdown",
   "metadata": {
    "id": "gURRinn2Ks3l"
   },
   "source": [
    "Look at the wave in the center of the plot, between the two circles. Since the arrows are all black instead of green, there is no traveling wave - only a standing wave caught between the hulls. This is important for catamaran seakeeping predictions."
   ]
  }
 ],
 "metadata": {
  "colab": {
   "authorship_tag": "ABX9TyOZpwpv2D0uVxc6yRE2lcTv",
   "collapsed_sections": [],
   "include_colab_link": true,
   "name": "Green function version",
   "provenance": []
  },
  "interpreter": {
   "hash": "b3ba2566441a7c06988d0923437866b63cedc61552a5af99d1f4fb67d367b25f"
  },
  "kernelspec": {
   "display_name": "Python 3 (ipykernel)",
   "language": "python",
   "name": "python3"
  },
  "language_info": {
   "codemirror_mode": {
    "name": "ipython",
    "version": 3
   },
   "file_extension": ".py",
   "mimetype": "text/x-python",
   "name": "python",
   "nbconvert_exporter": "python",
   "pygments_lexer": "ipython3",
   "version": "3.8.12"
  }
 },
 "nbformat": 4,
 "nbformat_minor": 4
}
